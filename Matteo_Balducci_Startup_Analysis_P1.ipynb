{
  "cells": [
    {
      "cell_type": "markdown",
      "metadata": {
        "id": "view-in-github",
        "colab_type": "text"
      },
      "source": [
        "<a href=\"https://colab.research.google.com/github/matteobalducci/Startup_Analysis/blob/main/Matteo_Balducci_Startup_Analysis_P1.ipynb\" target=\"_parent\"><img src=\"https://colab.research.google.com/assets/colab-badge.svg\" alt=\"Open In Colab\"/></a>"
      ]
    },
    {
      "cell_type": "markdown",
      "id": "2b04dd95-2ffb-4fa1-b4b2-091647abb161",
      "metadata": {
        "id": "2b04dd95-2ffb-4fa1-b4b2-091647abb161"
      },
      "source": [
        "# 3.15.x Final Assignment"
      ]
    },
    {
      "cell_type": "markdown",
      "id": "5a968c9c-628b-42c6-b692-d88b2a1866f4",
      "metadata": {
        "id": "5a968c9c-628b-42c6-b692-d88b2a1866f4"
      },
      "source": [
        "### Assignment Instructions"
      ]
    },
    {
      "cell_type": "markdown",
      "id": "8ba6a2d5-87be-4662-a940-6e9b347a5ae2",
      "metadata": {
        "id": "8ba6a2d5-87be-4662-a940-6e9b347a5ae2"
      },
      "source": [
        "#### Part 1   |   Standard Difficulty Level\n",
        "\n",
        "In this first part, you will be working with a datasets containing information of over 20k Software Professionals with different variables like:\n",
        "\n",
        "- the `Rating` of the company given by the employee,\n",
        "- the `Company Name`,\n",
        "- the `Job Title` of the employee,\n",
        "- the employee `Salary` (in Indian Rupee ₹),\n",
        "- the number of `Salaries Reported`,\n",
        "- the `Location` of the company,\n",
        "- the `Employment Status` and\n",
        "- the category of the `Job Roles`\n",
        "\n",
        "The dataset name is `Software Professionals Salary.csv` and you will find it in the `data` folder of this repository. At [this link](https://www.kaggle.com/datasets/iamsouravbanerjee/software-professional-salaries-2022?search=salary) you can find the source of the data (Kaggle) as well as more information on its composition."
      ]
    },
    {
      "cell_type": "markdown",
      "id": "cd468a65-2fe5-4427-86f5-33dd7d73dc4d",
      "metadata": {
        "id": "cd468a65-2fe5-4427-86f5-33dd7d73dc4d"
      },
      "source": []
    },
    {
      "cell_type": "markdown",
      "id": "0d3ea74d-55a1-4236-bd04-9777f1af69de",
      "metadata": {
        "id": "0d3ea74d-55a1-4236-bd04-9777f1af69de"
      },
      "source": [
        "**Setup:** Import the necessary libraries and load the .csv file to a DataFrame named `sps`. Check that all columns have the correct data type."
      ]
    },
    {
      "cell_type": "code",
      "execution_count": null,
      "id": "40c3fbf2-54a3-440c-868f-d2509ca27aba",
      "metadata": {
        "id": "40c3fbf2-54a3-440c-868f-d2509ca27aba",
        "colab": {
          "base_uri": "https://localhost:8080/"
        },
        "outputId": "3e069693-b121-4439-b52b-cdd43f2aeb05"
      },
      "outputs": [
        {
          "output_type": "stream",
          "name": "stdout",
          "text": [
            "Mounted at /content/drive\n",
            "Rating               float64\n",
            "Company Name          object\n",
            "Job Title             object\n",
            "Salary                 int64\n",
            "Salaries Reported      int64\n",
            "Location              object\n",
            "Employment Status     object\n",
            "Job Roles             object\n",
            "dtype: object\n"
          ]
        }
      ],
      "source": [
        "import pandas as pd\n",
        "\n",
        "# Mount Google Drive if the file is stored in Google Drive\n",
        "from google.colab import drive\n",
        "drive.mount('/content/drive')\n",
        "\n",
        "# Load the CSV file into a DataFrame\n",
        "data_path = \"/content/drive/MyDrive/Software Professionals Salary.csv\"  # Replace with the actual file path\n",
        "sps = pd.read_csv(data_path)\n",
        "\n",
        "# Check the data types of all columns\n",
        "print(sps.dtypes)\n"
      ]
    },
    {
      "cell_type": "markdown",
      "id": "d7e527a1-5129-4008-8db5-6b196be6a7cd",
      "metadata": {
        "id": "d7e527a1-5129-4008-8db5-6b196be6a7cd"
      },
      "source": [
        "1. What is the shape (rows, cols) of the `sps` DataFrame?"
      ]
    },
    {
      "cell_type": "code",
      "execution_count": null,
      "id": "fd0690a5-11a2-44eb-b501-b92914e30832",
      "metadata": {
        "id": "fd0690a5-11a2-44eb-b501-b92914e30832",
        "colab": {
          "base_uri": "https://localhost:8080/"
        },
        "outputId": "bc2a12b2-6687-4f42-a2c4-4a16a28b0ad8"
      },
      "outputs": [
        {
          "output_type": "stream",
          "name": "stdout",
          "text": [
            "(22770, 8)\n"
          ]
        }
      ],
      "source": [
        "print(sps.shape)\n"
      ]
    },
    {
      "cell_type": "markdown",
      "id": "a80bd554-b444-4335-9841-1c46374abf60",
      "metadata": {
        "id": "a80bd554-b444-4335-9841-1c46374abf60"
      },
      "source": [
        "2. How many unique `Job Roles` are there in the dataset?"
      ]
    },
    {
      "cell_type": "code",
      "execution_count": null,
      "id": "c4f563b6-dfea-4fc7-8e1a-b33fdcec2454",
      "metadata": {
        "id": "c4f563b6-dfea-4fc7-8e1a-b33fdcec2454",
        "colab": {
          "base_uri": "https://localhost:8080/"
        },
        "outputId": "9a070115-1e98-41f8-e3e4-c0d88b667ce0"
      },
      "outputs": [
        {
          "output_type": "stream",
          "name": "stdout",
          "text": [
            "11\n"
          ]
        }
      ],
      "source": [
        "unique_job_roles = sps['Job Roles'].nunique()\n",
        "print(unique_job_roles)\n"
      ]
    },
    {
      "cell_type": "markdown",
      "id": "3e37f0cb-a461-455c-8c86-3442d453e998",
      "metadata": {
        "id": "3e37f0cb-a461-455c-8c86-3442d453e998"
      },
      "source": [
        "3. How many unique `Job Title` are there for the \"Python\" `Job Role`?"
      ]
    },
    {
      "cell_type": "code",
      "execution_count": null,
      "id": "e5114fa9-4fee-4835-ba92-dafc05c06275",
      "metadata": {
        "id": "e5114fa9-4fee-4835-ba92-dafc05c06275",
        "colab": {
          "base_uri": "https://localhost:8080/"
        },
        "outputId": "cbac5665-1efe-45d2-994a-d289258aa5db"
      },
      "outputs": [
        {
          "output_type": "stream",
          "name": "stdout",
          "text": [
            "102\n"
          ]
        }
      ],
      "source": [
        "# Filter the DataFrame for rows with \"Python\" job role\n",
        "python_jobs = sps[sps['Job Roles'] == 'Python']\n",
        "\n",
        "# Calculate the number of unique job titles\n",
        "unique_job_titles = python_jobs['Job Title'].nunique()\n",
        "\n",
        "print(unique_job_titles)\n"
      ]
    },
    {
      "cell_type": "markdown",
      "id": "a17fcd33-da70-4d95-b6ef-db5a5691924f",
      "metadata": {
        "id": "a17fcd33-da70-4d95-b6ef-db5a5691924f"
      },
      "source": [
        "4. Of the `Company Name`s that are listed in the DataFrame, **how many** have a \"Python\" `Job Role` with a `Job Title` containing the **substring** \"Analyst\"?"
      ]
    },
    {
      "cell_type": "code",
      "execution_count": null,
      "id": "5b9b9905-3e0c-48c3-a8c6-73cfe8a17c65",
      "metadata": {
        "id": "5b9b9905-3e0c-48c3-a8c6-73cfe8a17c65",
        "colab": {
          "base_uri": "https://localhost:8080/"
        },
        "outputId": "b4e47782-4cec-4e44-8c94-0d0df582e4ea"
      },
      "outputs": [
        {
          "output_type": "stream",
          "name": "stdout",
          "text": [
            "3\n"
          ]
        }
      ],
      "source": [
        "# Filter the DataFrame for rows with \"Python\" job role and job title containing \"Analyst\"\n",
        "python_analyst_jobs = sps[(sps['Job Roles'] == 'Python') & sps['Job Title'].str.contains('Analyst')]\n",
        "\n",
        "# Get the unique company names from the filtered DataFrame\n",
        "unique_company_names = python_analyst_jobs['Company Name'].nunique()\n",
        "\n",
        "print(unique_company_names)\n"
      ]
    },
    {
      "cell_type": "markdown",
      "id": "f2110f33-71b5-4537-9aee-514f96c06a23",
      "metadata": {
        "id": "f2110f33-71b5-4537-9aee-514f96c06a23"
      },
      "source": [
        "5. Which `Company Name` has the highest number of `Salaries Reported` (across all `Job Title`s)?"
      ]
    },
    {
      "cell_type": "code",
      "execution_count": null,
      "id": "0cd9baa9-897f-41b2-a062-a15d1bad566a",
      "metadata": {
        "id": "0cd9baa9-897f-41b2-a062-a15d1bad566a",
        "colab": {
          "base_uri": "https://localhost:8080/"
        },
        "outputId": "b4c32ccb-f561-4eed-dfb8-80e3457d29ce"
      },
      "outputs": [
        {
          "output_type": "stream",
          "name": "stdout",
          "text": [
            "Amazon\n"
          ]
        }
      ],
      "source": [
        "# Group the DataFrame by \"Company Name\" and calculate the sum of \"Salaries Reported\" for each group\n",
        "company_salaries = sps.groupby('Company Name')['Salaries Reported'].sum()\n",
        "\n",
        "# Find the company name with the maximum sum of salaries reported\n",
        "company_with_max_salaries = company_salaries.idxmax()\n",
        "\n",
        "print(company_with_max_salaries)\n"
      ]
    },
    {
      "cell_type": "markdown",
      "id": "902fbf21-180a-44de-81e4-50457980c762",
      "metadata": {
        "id": "902fbf21-180a-44de-81e4-50457980c762"
      },
      "source": [
        "6. Given the `Company Name` you found at the previous question, how many `Location`s is this company present in?"
      ]
    },
    {
      "cell_type": "code",
      "execution_count": null,
      "id": "918e629a-b114-4064-8943-2cd283988e07",
      "metadata": {
        "id": "918e629a-b114-4064-8943-2cd283988e07",
        "colab": {
          "base_uri": "https://localhost:8080/"
        },
        "outputId": "ee499cec-62d6-488b-ba24-18513a0a0b36"
      },
      "outputs": [
        {
          "output_type": "stream",
          "name": "stdout",
          "text": [
            "9\n"
          ]
        }
      ],
      "source": [
        "# Filter the DataFrame for rows with the company name with the highest number of salaries reported\n",
        "company_max_salaries = sps[sps['Company Name'] == company_with_max_salaries]\n",
        "\n",
        "# Count the number of unique locations for the filtered company\n",
        "unique_locations = company_max_salaries['Location'].nunique()\n",
        "\n",
        "print(unique_locations)\n"
      ]
    },
    {
      "cell_type": "markdown",
      "id": "dee41965-0db4-446d-bf20-174898462a8d",
      "metadata": {
        "id": "dee41965-0db4-446d-bf20-174898462a8d"
      },
      "source": [
        "7. As you may have noticed, the `Salary` is reported in Indian Rupees (ISO code: INR). Using the [Open Access Endpoint](https://www.exchangerate-api.com/docs/free) (no API Key required) of the ExchangeRate-API service, create a new column named `Salary USD` containing the salary-equivalent in USD and round the result to zero decimals. What is the conversion rate between USD-INR at the time of your execution? *Note: of course, this result will change in time*"
      ]
    },
    {
      "cell_type": "code",
      "execution_count": null,
      "id": "bab08d9b-ac6c-4ae6-a6fe-1efded5e4bab",
      "metadata": {
        "id": "bab08d9b-ac6c-4ae6-a6fe-1efded5e4bab",
        "colab": {
          "base_uri": "https://localhost:8080/"
        },
        "outputId": "b6e55300-d696-4fdd-865f-af45b9f74141"
      },
      "outputs": [
        {
          "output_type": "stream",
          "name": "stdout",
          "text": [
            "Conversion rate between USD-INR: 1 USD = 82.64 INR\n"
          ]
        }
      ],
      "source": [
        "import requests\n",
        "\n",
        "# Make the API request to get the exchange rate\n",
        "response = requests.get('https://api.exchangerate-api.com/v4/latest/USD')\n",
        "exchange_rates = response.json()\n",
        "\n",
        "# Get the conversion rate for USD to INR\n",
        "usd_to_inr = exchange_rates['rates']['INR']\n",
        "\n",
        "# Create a new column \"Salary USD\" by converting the \"Salary\" column to USD\n",
        "sps['Salary USD'] = sps['Salary'] / usd_to_inr\n",
        "sps['Salary USD'] = sps['Salary USD'].round(0)\n",
        "\n",
        "# Print the conversion rate between USD-INR\n",
        "print(f\"Conversion rate between USD-INR: 1 USD = {usd_to_inr} INR\")\n"
      ]
    },
    {
      "cell_type": "markdown",
      "id": "c457c816-0762-4727-a4dc-b89d0b12eea5",
      "metadata": {
        "id": "c457c816-0762-4727-a4dc-b89d0b12eea5"
      },
      "source": [
        "8. What is the average `Salary USD` for the \"Python\" `Job Role`?"
      ]
    },
    {
      "cell_type": "code",
      "execution_count": null,
      "id": "fcc1f4be-7c64-4a1d-9153-2ae16183975e",
      "metadata": {
        "id": "fcc1f4be-7c64-4a1d-9153-2ae16183975e",
        "colab": {
          "base_uri": "https://localhost:8080/"
        },
        "outputId": "d33aaa4c-778d-4557-de5e-d060b81ef25d"
      },
      "outputs": [
        {
          "output_type": "stream",
          "name": "stdout",
          "text": [
            "5881.083421330517\n"
          ]
        }
      ],
      "source": [
        "# Filter the DataFrame for rows with \"Python\" job role\n",
        "python_jobs = sps[sps['Job Roles'] == 'Python']\n",
        "\n",
        "# Calculate the average salary in USD for the filtered job role\n",
        "average_salary_usd = python_jobs['Salary USD'].mean()\n",
        "\n",
        "print(average_salary_usd)\n"
      ]
    },
    {
      "cell_type": "markdown",
      "id": "32420ea4-9878-47d9-a001-eef14914f481",
      "metadata": {
        "id": "32420ea4-9878-47d9-a001-eef14914f481"
      },
      "source": [
        "9. Which `Company Name` has the highest **average** `Salary EUR` across all `Job Title`s?"
      ]
    },
    {
      "cell_type": "code",
      "execution_count": null,
      "id": "b1ff1c06-087f-42bc-9e61-8aecc2a2d89c",
      "metadata": {
        "id": "b1ff1c06-087f-42bc-9e61-8aecc2a2d89c",
        "colab": {
          "base_uri": "https://localhost:8080/"
        },
        "outputId": "58485775-d169-4514-8c82-345f3d2488b9"
      },
      "outputs": [
        {
          "output_type": "stream",
          "name": "stdout",
          "text": [
            "Thapar University\n"
          ]
        }
      ],
      "source": [
        "# Group the DataFrame by \"Company Name\" and calculate the average of \"Salary\" for each group\n",
        "company_average_salary_eur = sps.groupby('Company Name')['Salary'].mean()\n",
        "\n",
        "# Find the company name with the maximum average salary in EUR\n",
        "company_with_highest_average_salary = company_average_salary_eur.idxmax()\n",
        "\n",
        "print(company_with_highest_average_salary)\n"
      ]
    },
    {
      "cell_type": "markdown",
      "id": "305fe38f-9332-4ba9-8b01-25ec9db92793",
      "metadata": {
        "id": "305fe38f-9332-4ba9-8b01-25ec9db92793"
      },
      "source": [
        "10. Create a Plot that shows the **relationship** between the average `Salary EUR` and the average `Rating` for each `Company Name`. Do you see any anomaly in the plot? Which is the `Company Name` that is causing this oddity?"
      ]
    },
    {
      "cell_type": "code",
      "execution_count": null,
      "id": "f0573791-7710-4552-b5cc-d7a86151ed4f",
      "metadata": {
        "id": "f0573791-7710-4552-b5cc-d7a86151ed4f",
        "colab": {
          "base_uri": "https://localhost:8080/",
          "height": 564
        },
        "outputId": "a4d22ce7-db82-44a9-a90f-178f6c119b9d"
      },
      "outputs": [
        {
          "output_type": "display_data",
          "data": {
            "text/plain": [
              "<Figure size 1000x600 with 1 Axes>"
            ],
            "image/png": "[encoded data removed]"
          },
          "metadata": {}
        }
      ],
      "source": [
        "import matplotlib.pyplot as plt\n",
        "\n",
        "# Group the DataFrame by \"Company Name\" and calculate the average of \"Salary EUR\" and \"Rating\" for each group\n",
        "company_avg_salary_rating = sps.groupby('Company Name').agg({'Salary': 'mean', 'Rating': 'mean'})\n",
        "\n",
        "# Plot the relationship between average Salary EUR and average Rating\n",
        "plt.figure(figsize=(10, 6))\n",
        "plt.scatter(company_avg_salary_rating['Rating'], company_avg_salary_rating['Salary'])\n",
        "plt.xlabel('Average Rating')\n",
        "plt.ylabel('Average Salary EUR')\n",
        "plt.title('Relationship between Average Salary EUR and Average Rating')\n",
        "\n",
        "# Find the company name with the highest average salary and highlight it on the plot\n",
        "company_with_highest_avg_salary = company_avg_salary_rating['Salary'].idxmax()\n",
        "highest_avg_salary = company_avg_salary_rating.loc[company_with_highest_avg_salary, 'Salary']\n",
        "highest_avg_rating = company_avg_salary_rating.loc[company_with_highest_avg_salary, 'Rating']\n",
        "plt.scatter(highest_avg_rating, highest_avg_salary, color='red', label=company_with_highest_avg_salary)\n",
        "plt.legend()\n",
        "\n",
        "plt.show()\n",
        "\n",
        "\n"
      ]
    }
  ],
  "metadata": {
    "kernelspec": {
      "display_name": "Python 3 (ipykernel)",
      "language": "python",
      "name": "python3"
    },
    "language_info": {
      "codemirror_mode": {
        "name": "ipython",
        "version": 3
      },
      "file_extension": ".py",
      "mimetype": "text/x-python",
      "name": "python",
      "nbconvert_exporter": "python",
      "pygments_lexer": "ipython3",
      "version": "3.9.7"
    },
    "colab": {
      "provenance": [],
      "include_colab_link": true
    }
  },
  "nbformat": 4,
  "nbformat_minor": 5
}